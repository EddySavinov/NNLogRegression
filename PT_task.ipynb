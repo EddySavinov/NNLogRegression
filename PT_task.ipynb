{
 "cells": [
  {
   "cell_type": "markdown",
   "metadata": {
    "toc": "true"
   },
   "source": [
    "# Table of Contents\n",
    " <p><div class=\"lev1 toc-item\"><a href=\"#Задание:\" data-toc-modified-id=\"Задание:-1\"><span class=\"toc-item-num\">1&nbsp;&nbsp;</span>Задание:</a></div>"
   ]
  },
  {
   "cell_type": "markdown",
   "metadata": {},
   "source": [
    "# Задание:\n",
    "    Реализовать модель логистической регрессии с использованием pytorch\n",
    "    Тестовый набор данных выбирается самостоятельно"
   ]
  },
  {
   "cell_type": "markdown",
   "metadata": {},
   "source": [
    "http://pytorch.org/"
   ]
  },
  {
   "cell_type": "markdown",
   "metadata": {},
   "source": [
    "https://github.com/pytorch/examples"
   ]
  },
  {
   "cell_type": "markdown",
   "metadata": {},
   "source": [
    "http://pytorch.org/tutorials/"
   ]
  },
  {
   "cell_type": "code",
   "execution_count": 1,
   "metadata": {},
   "outputs": [],
   "source": [
    "import matplotlib.pyplot as plt\n",
    "%matplotlib inline"
   ]
  },
  {
   "cell_type": "code",
   "execution_count": 2,
   "metadata": {},
   "outputs": [],
   "source": [
    "import torch\n",
    "import torch.nn as nn\n",
    "from torch.autograd import Variable\n",
    "import torchvision.datasets as dset\n",
    "import torchvision.transforms as transforms\n",
    "import torch.nn.functional as F\n",
    "import torch.optim as optim"
   ]
  },
  {
   "cell_type": "code",
   "execution_count": 3,
   "metadata": {},
   "outputs": [
    {
     "name": "stderr",
     "output_type": "stream",
     "text": [
      "/usr/local/lib/python3.6/dist-packages/sklearn/cross_validation.py:41: DeprecationWarning: This module was deprecated in version 0.18 in favor of the model_selection module into which all the refactored classes and functions are moved. Also note that the interface of the new CV iterators are different from that of this module. This module will be removed in 0.20.\n",
      "  \"This module will be removed in 0.20.\", DeprecationWarning)\n"
     ]
    }
   ],
   "source": [
    "from matplotlib.colors import ListedColormap\n",
    "from sklearn import cross_validation, datasets, linear_model, metrics\n",
    "from sklearn.preprocessing import StandardScaler\n",
    "import numpy as np"
   ]
  },
  {
   "cell_type": "code",
   "execution_count": 4,
   "metadata": {},
   "outputs": [
    {
     "name": "stdout",
     "output_type": "stream",
     "text": [
      "Populating the interactive namespace from numpy and matplotlib\n"
     ]
    }
   ],
   "source": [
    "%pylab inline"
   ]
  },
  {
   "cell_type": "code",
   "execution_count": 5,
   "metadata": {},
   "outputs": [],
   "source": [
    "blobs = datasets.make_blobs(centers = 2, cluster_std = 4.5, random_state=1)"
   ]
  },
  {
   "cell_type": "code",
   "execution_count": 6,
   "metadata": {},
   "outputs": [
    {
     "data": {
      "text/plain": [
       "<matplotlib.collections.PathCollection at 0x7f7ce81937b8>"
      ]
     },
     "execution_count": 6,
     "metadata": {},
     "output_type": "execute_result"
    },
    {
     "data": {
      "image/png": "[encoded data removed]",
      "text/plain": [
       "<matplotlib.figure.Figure at 0x7f7c7ee1f438>"
      ]
     },
     "metadata": {},
     "output_type": "display_data"
    }
   ],
   "source": [
    "colors = ListedColormap(['red', 'blue'])\n",
    "\n",
    "pylab.figure(figsize(8, 8))\n",
    "pylab.scatter(list(map(lambda x: x[0], blobs[0])), list(map(lambda x: x[1], blobs[0])), c = blobs[1], cmap = colors)"
   ]
  },
  {
   "cell_type": "code",
   "execution_count": 7,
   "metadata": {},
   "outputs": [],
   "source": [
    "train_data, test_data, train_labels, test_labels = cross_validation.train_test_split(blobs[0], blobs[1], \n",
    "                                                                                    test_size = 0.2,\n",
    "                                                                                    random_state = 1)"
   ]
  },
  {
   "cell_type": "code",
   "execution_count": 8,
   "metadata": {},
   "outputs": [],
   "source": [
    "scaler = StandardScaler()\n",
    "scaler.fit(train_data, train_labels)\n",
    "train_data = scaler.transform(train_data)\n",
    "test_data = scaler.transform(test_data)"
   ]
  },
  {
   "cell_type": "code",
   "execution_count": 9,
   "metadata": {},
   "outputs": [],
   "source": [
    "class LRNet(nn.Module):\n",
    "    def __init__(self):\n",
    "        super(LRNet, self).__init__()\n",
    "        self.fc1 = nn.Linear(2, 1)\n",
    "        self.ceriation = nn.BCELoss()\n",
    "    def forward(self, x, target):\n",
    "        x = F.sigmoid(self.fc1(x))\n",
    "        loss = self.ceriation(x, target)\n",
    "        return x, loss\n",
    "    def name(self):\n",
    "        return 'logrnet'"
   ]
  },
  {
   "cell_type": "code",
   "execution_count": 10,
   "metadata": {},
   "outputs": [],
   "source": [
    "train_labels = np.array(train_labels,dtype = float)\n",
    "test_labels = np.array(test_labels,dtype = float)"
   ]
  },
  {
   "cell_type": "code",
   "execution_count": 11,
   "metadata": {},
   "outputs": [],
   "source": [
    "x = Variable(torch.Tensor(train_data), requires_grad=False)\n",
    "y = Variable(torch.Tensor(train_labels), requires_grad=False)\n",
    "xt = Variable(torch.Tensor(test_data), requires_grad=False)\n",
    "yt = Variable(torch.Tensor(test_labels), requires_grad=False)"
   ]
  },
  {
   "cell_type": "code",
   "execution_count": 12,
   "metadata": {},
   "outputs": [],
   "source": [
    "model = LRNet().cpu()"
   ]
  },
  {
   "cell_type": "code",
   "execution_count": 13,
   "metadata": {
    "scrolled": true
   },
   "outputs": [
    {
     "name": "stdout",
     "output_type": "stream",
     "text": [
      "==>>> epoch: 0, train loss: 0.630376, test loss: 0.473644\n",
      "==>>> epoch: 1, train loss: 0.621250, test loss: 0.460108\n",
      "==>>> epoch: 2, train loss: 0.604413, test loss: 0.441893\n",
      "==>>> epoch: 3, train loss: 0.581520, test loss: 0.420554\n",
      "==>>> epoch: 4, train loss: 0.554318, test loss: 0.397580\n",
      "==>>> epoch: 5, train loss: 0.524508, test loss: 0.374287\n",
      "==>>> epoch: 6, train loss: 0.493632, test loss: 0.351731\n",
      "==>>> epoch: 7, train loss: 0.462986, test loss: 0.330678\n",
      "==>>> epoch: 8, train loss: 0.433571, test loss: 0.311608\n",
      "==>>> epoch: 9, train loss: 0.406081, test loss: 0.294750\n",
      "==>>> epoch: 10, train loss: 0.380930, test loss: 0.280139\n",
      "==>>> epoch: 11, train loss: 0.358295, test loss: 0.267673\n",
      "==>>> epoch: 12, train loss: 0.338174, test loss: 0.257168\n",
      "==>>> epoch: 13, train loss: 0.320450, test loss: 0.248401\n",
      "==>>> epoch: 14, train loss: 0.304929, test loss: 0.241137\n",
      "==>>> epoch: 15, train loss: 0.291391, test loss: 0.235151\n",
      "==>>> epoch: 16, train loss: 0.279603, test loss: 0.230238\n",
      "==>>> epoch: 17, train loss: 0.269345, test loss: 0.226218\n",
      "==>>> epoch: 18, train loss: 0.260412, test loss: 0.222933\n",
      "==>>> epoch: 19, train loss: 0.252622, test loss: 0.220253\n",
      "==>>> epoch: 20, train loss: 0.245815, test loss: 0.218067\n",
      "==>>> epoch: 21, train loss: 0.239852, test loss: 0.216283\n",
      "==>>> epoch: 22, train loss: 0.234614, test loss: 0.214827\n",
      "==>>> epoch: 23, train loss: 0.230000, test loss: 0.213635\n",
      "==>>> epoch: 24, train loss: 0.225923, test loss: 0.212658\n",
      "==>>> epoch: 25, train loss: 0.222309, test loss: 0.211854\n",
      "==>>> epoch: 26, train loss: 0.219095, test loss: 0.211190\n",
      "==>>> epoch: 27, train loss: 0.216229, test loss: 0.210638\n",
      "==>>> epoch: 28, train loss: 0.213664, test loss: 0.210176\n",
      "==>>> epoch: 29, train loss: 0.211362, test loss: 0.209787\n",
      "==>>> epoch: 30, train loss: 0.209289, test loss: 0.209455\n",
      "==>>> epoch: 31, train loss: 0.207418, test loss: 0.209170\n",
      "==>>> epoch: 32, train loss: 0.205724, test loss: 0.208922\n",
      "==>>> epoch: 33, train loss: 0.204186, test loss: 0.208704\n",
      "==>>> epoch: 34, train loss: 0.202785, test loss: 0.208511\n",
      "==>>> epoch: 35, train loss: 0.201506, test loss: 0.208336\n",
      "==>>> epoch: 36, train loss: 0.200336, test loss: 0.208177\n",
      "==>>> epoch: 37, train loss: 0.199262, test loss: 0.208032\n",
      "==>>> epoch: 38, train loss: 0.198274, test loss: 0.207897\n",
      "==>>> epoch: 39, train loss: 0.197363, test loss: 0.207772\n",
      "==>>> epoch: 40, train loss: 0.196521, test loss: 0.207654\n",
      "==>>> epoch: 41, train loss: 0.195741, test loss: 0.207544\n",
      "==>>> epoch: 42, train loss: 0.195018, test loss: 0.207440\n",
      "==>>> epoch: 43, train loss: 0.194344, test loss: 0.207342\n",
      "==>>> epoch: 44, train loss: 0.193716, test loss: 0.207250\n",
      "==>>> epoch: 45, train loss: 0.193130, test loss: 0.207164\n",
      "==>>> epoch: 46, train loss: 0.192581, test loss: 0.207083\n",
      "==>>> epoch: 47, train loss: 0.192066, test loss: 0.207007\n",
      "==>>> epoch: 48, train loss: 0.191583, test loss: 0.206937\n",
      "==>>> epoch: 49, train loss: 0.191128, test loss: 0.206872\n",
      "==>>> epoch: 50, train loss: 0.190698, test loss: 0.206813\n",
      "==>>> epoch: 51, train loss: 0.190293, test loss: 0.206760\n",
      "==>>> epoch: 52, train loss: 0.189910, test loss: 0.206712\n",
      "==>>> epoch: 53, train loss: 0.189546, test loss: 0.206670\n",
      "==>>> epoch: 54, train loss: 0.189202, test loss: 0.206633\n",
      "==>>> epoch: 55, train loss: 0.188874, test loss: 0.206602\n",
      "==>>> epoch: 56, train loss: 0.188562, test loss: 0.206577\n",
      "==>>> epoch: 57, train loss: 0.188265, test loss: 0.206558\n",
      "==>>> epoch: 58, train loss: 0.187981, test loss: 0.206544\n",
      "==>>> epoch: 59, train loss: 0.187710, test loss: 0.206536\n",
      "==>>> epoch: 60, train loss: 0.187450, test loss: 0.206534\n",
      "==>>> epoch: 61, train loss: 0.187202, test loss: 0.206537\n",
      "==>>> epoch: 62, train loss: 0.186963, test loss: 0.206546\n",
      "==>>> epoch: 63, train loss: 0.186734, test loss: 0.206560\n",
      "==>>> epoch: 64, train loss: 0.186514, test loss: 0.206579\n",
      "==>>> epoch: 65, train loss: 0.186302, test loss: 0.206603\n",
      "==>>> epoch: 66, train loss: 0.186098, test loss: 0.206632\n",
      "==>>> epoch: 67, train loss: 0.185902, test loss: 0.206666\n",
      "==>>> epoch: 68, train loss: 0.185712, test loss: 0.206705\n",
      "==>>> epoch: 69, train loss: 0.185528, test loss: 0.206748\n",
      "==>>> epoch: 70, train loss: 0.185351, test loss: 0.206795\n",
      "==>>> epoch: 71, train loss: 0.185180, test loss: 0.206847\n",
      "==>>> epoch: 72, train loss: 0.185014, test loss: 0.206903\n",
      "==>>> epoch: 73, train loss: 0.184853, test loss: 0.206962\n",
      "==>>> epoch: 74, train loss: 0.184697, test loss: 0.207025\n",
      "==>>> epoch: 75, train loss: 0.184546, test loss: 0.207092\n",
      "==>>> epoch: 76, train loss: 0.184399, test loss: 0.207162\n",
      "==>>> epoch: 77, train loss: 0.184256, test loss: 0.207235\n",
      "==>>> epoch: 78, train loss: 0.184118, test loss: 0.207312\n",
      "==>>> epoch: 79, train loss: 0.183983, test loss: 0.207391\n",
      "==>>> epoch: 80, train loss: 0.183852, test loss: 0.207473\n",
      "==>>> epoch: 81, train loss: 0.183724, test loss: 0.207557\n",
      "==>>> epoch: 82, train loss: 0.183600, test loss: 0.207643\n",
      "==>>> epoch: 83, train loss: 0.183479, test loss: 0.207732\n",
      "==>>> epoch: 84, train loss: 0.183361, test loss: 0.207823\n",
      "==>>> epoch: 85, train loss: 0.183246, test loss: 0.207916\n",
      "==>>> epoch: 86, train loss: 0.183134, test loss: 0.208011\n",
      "==>>> epoch: 87, train loss: 0.183024, test loss: 0.208107\n",
      "==>>> epoch: 88, train loss: 0.182918, test loss: 0.208205\n",
      "==>>> epoch: 89, train loss: 0.182813, test loss: 0.208304\n",
      "==>>> epoch: 90, train loss: 0.182711, test loss: 0.208405\n",
      "==>>> epoch: 91, train loss: 0.182612, test loss: 0.208506\n",
      "==>>> epoch: 92, train loss: 0.182515, test loss: 0.208609\n",
      "==>>> epoch: 93, train loss: 0.182420, test loss: 0.208713\n",
      "==>>> epoch: 94, train loss: 0.182327, test loss: 0.208817\n",
      "==>>> epoch: 95, train loss: 0.182236, test loss: 0.208923\n",
      "==>>> epoch: 96, train loss: 0.182147, test loss: 0.209029\n",
      "==>>> epoch: 97, train loss: 0.182060, test loss: 0.209135\n",
      "==>>> epoch: 98, train loss: 0.181975, test loss: 0.209242\n",
      "==>>> epoch: 99, train loss: 0.181892, test loss: 0.209350\n"
     ]
    },
    {
     "name": "stderr",
     "output_type": "stream",
     "text": [
      "/usr/local/lib/python3.6/dist-packages/torch/nn/functional.py:767: UserWarning: Using a target size (torch.Size([80])) that is different to the input size (torch.Size([80, 1])) is deprecated. Please ensure they have the same size.\n",
      "  \"Please ensure they have the same size.\".format(target.size(), input.size()))\n",
      "/usr/local/lib/python3.6/dist-packages/torch/nn/functional.py:767: UserWarning: Using a target size (torch.Size([20])) that is different to the input size (torch.Size([20, 1])) is deprecated. Please ensure they have the same size.\n",
      "  \"Please ensure they have the same size.\".format(target.size(), input.size()))\n"
     ]
    }
   ],
   "source": [
    "optimizer = optim.SGD(model.parameters(), lr=0.05, momentum=0.9)\n",
    "train_loss = []\n",
    "test_loss = []\n",
    "for epoch in range(100):    \n",
    "    optimizer.zero_grad()\n",
    "    _, loss = model(x, y)\n",
    "    loss.backward()\n",
    "    optimizer.step()\n",
    "    _, tloss = model.forward(xt,yt)\n",
    "    print ('==>>> epoch: {}, train loss: {:.6f}, test loss: {:.6f}'.format(epoch, loss.data[0], tloss.data[0]))\n",
    "    train_loss.append(loss.data[0])\n",
    "    test_loss.append(tloss.data[0])\n",
    "    \n",
    "torch.save(model.state_dict(), model.name())"
   ]
  },
  {
   "cell_type": "code",
   "execution_count": 14,
   "metadata": {},
   "outputs": [
    {
     "data": {
      "image/png": "[encoded data removed]",
      "text/plain": [
       "<matplotlib.figure.Figure at 0x7f7c7cda76d8>"
      ]
     },
     "metadata": {},
     "output_type": "display_data"
    }
   ],
   "source": [
    "plt.plot(train_loss)\n",
    "plt.plot(test_loss)\n",
    "plt.show()"
   ]
  },
  {
   "cell_type": "code",
   "execution_count": 15,
   "metadata": {},
   "outputs": [],
   "source": [
    "LR = linear_model.LogisticRegression(random_state = 1)"
   ]
  },
  {
   "cell_type": "code",
   "execution_count": 16,
   "metadata": {},
   "outputs": [
    {
     "data": {
      "text/plain": [
       "LogisticRegression(C=1.0, class_weight=None, dual=False, fit_intercept=True,\n",
       "          intercept_scaling=1, max_iter=100, multi_class='ovr', n_jobs=1,\n",
       "          penalty='l2', random_state=1, solver='liblinear', tol=0.0001,\n",
       "          verbose=0, warm_start=False)"
      ]
     },
     "execution_count": 16,
     "metadata": {},
     "output_type": "execute_result"
    }
   ],
   "source": [
    "LR.fit(train_data, train_labels)"
   ]
  },
  {
   "cell_type": "code",
   "execution_count": 17,
   "metadata": {},
   "outputs": [
    {
     "data": {
      "text/plain": [
       "0.19961085860091668"
      ]
     },
     "execution_count": 17,
     "metadata": {},
     "output_type": "execute_result"
    }
   ],
   "source": [
    "metrics.log_loss(train_labels, LR.predict_proba(train_data))"
   ]
  },
  {
   "cell_type": "code",
   "execution_count": 18,
   "metadata": {},
   "outputs": [
    {
     "data": {
      "text/plain": [
       "0.21751017078772028"
      ]
     },
     "execution_count": 18,
     "metadata": {},
     "output_type": "execute_result"
    }
   ],
   "source": [
    "metrics.log_loss(test_labels, LR.predict_proba(test_data))"
   ]
  },
  {
   "cell_type": "code",
   "execution_count": null,
   "metadata": {},
   "outputs": [],
   "source": []
  },
  {
   "cell_type": "code",
   "execution_count": null,
   "metadata": {},
   "outputs": [],
   "source": []
  }
 ],
 "metadata": {
  "kernelspec": {
   "display_name": "Python 3",
   "language": "python",
   "name": "python3"
  },
  "language_info": {
   "codemirror_mode": {
    "name": "ipython",
    "version": 3
   },
   "file_extension": ".py",
   "mimetype": "text/x-python",
   "name": "python",
   "nbconvert_exporter": "python",
   "pygments_lexer": "ipython3",
   "version": "3.6.3"
  },
  "toc": {
   "colors": {
    "hover_highlight": "#DAA520",
    "navigate_num": "#000000",
    "navigate_text": "#333333",
    "running_highlight": "#FF0000",
    "selected_highlight": "#FFD700",
    "sidebar_border": "#EEEEEE",
    "wrapper_background": "#FFFFFF"
   },
   "moveMenuLeft": true,
   "nav_menu": {
    "height": "30px",
    "width": "252px"
   },
   "navigate_menu": true,
   "number_sections": true,
   "sideBar": true,
   "threshold": 4,
   "toc_cell": true,
   "toc_section_display": "block",
   "toc_window_display": false,
   "widenNotebook": false
  }
 },
 "nbformat": 4,
 "nbformat_minor": 2
}
